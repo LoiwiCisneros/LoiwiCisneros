{
 "cells": [
  {
   "cell_type": "code",
   "execution_count": 59,
   "id": "ae57c257-c537-4361-a48d-1162be4ab690",
   "metadata": {},
   "outputs": [],
   "source": [
    "import json\n",
    "import os.path\n",
    "import openpyxl\n",
    "import re\n",
    "from tkinter import filedialog"
   ]
  },
  {
   "cell_type": "code",
   "execution_count": 2,
   "id": "723d15fa-3d1f-4d97-b19d-80600c5489a7",
   "metadata": {},
   "outputs": [],
   "source": [
    "class Assistant:\n",
    "    def __init__(self, jsonFileName='Beams_info', xlsxFilePath=None) -> None:\n",
    "        self.fileName = jsonFileName\n",
    "        if xlsxFilePath is None:\n",
    "            xlsxFilePath = filedialog.askopenfilename(filetypes=((\"Excel files\", \"*xlsx\"), (\"Excel files\", \"*xlsm\")))\n",
    "        self.jsonFilePath = os.path.join(os.path.dirname(xlsxFilePath), jsonFileName + '.json')\n",
    "        self.wb = openpyxl.load_workbook(xlsxFilePath, read_only=True, data_only=True, keep_vba=False)\n",
    "\n",
    "    def open_json_file(self) -> None:\n",
    "        with open(self.jsonFilePath) as jsonFile:\n",
    "            self.jsonDict = json.load(jsonFile)\n",
    "\n",
    "    def get_variable_value(self, variable):\n",
    "        with open(self.jsonFilePath) as jsonFile:\n",
    "            dictionary = json.load(jsonFile)\n",
    "            value = dictionary[variable]\n",
    "        return value"
   ]
  },
  {
   "cell_type": "code",
   "execution_count": 52,
   "id": "a7d5d5ff-8aa9-40cd-aef2-dd8088a6aee5",
   "metadata": {},
   "outputs": [],
   "source": [
    "path = 'C:/Users/User/Downloads/Diseño manual de vigas 1.1.3 CALEB.xlsm'"
   ]
  },
  {
   "cell_type": "code",
   "execution_count": 4,
   "id": "2ab3602e-4221-489d-aad0-13dc8398a401",
   "metadata": {},
   "outputs": [
    {
     "data": {
      "text/plain": [
       "'C:/Users/User/Downloads'"
      ]
     },
     "execution_count": 4,
     "metadata": {},
     "output_type": "execute_result"
    }
   ],
   "source": [
    "os.path.dirname(path)"
   ]
  },
  {
   "cell_type": "code",
   "execution_count": 5,
   "id": "9b565c70-b840-4791-8b07-24eb267c6ad0",
   "metadata": {},
   "outputs": [],
   "source": [
    "reference = 'AX23'"
   ]
  },
  {
   "cell_type": "code",
   "execution_count": 57,
   "id": "15c0c09f-9013-4918-afb4-a252bda21c14",
   "metadata": {},
   "outputs": [],
   "source": [
    "def cell_ref2rc(reference: str) -> tuple:\n",
    "    result = re.search('([A-Z]+)([0-9]+)', reference)\n",
    "    col_title = result.group(1)\n",
    "    row_num = int(result.group(2))\n",
    "    col_num = 0\n",
    "    for B in range(len(col_title)):\n",
    "        col_num *= 26\n",
    "        col_num += ord(col_title[B]) - ord('A') + 1\n",
    "    return row_num - 1, col_num - 1"
   ]
  },
  {
   "cell_type": "code",
   "execution_count": 7,
   "id": "3f4b05c0-93ab-4490-8a18-c5a87fd7c84f",
   "metadata": {},
   "outputs": [
    {
     "data": {
      "text/plain": [
       "(22, 49)"
      ]
     },
     "execution_count": 7,
     "metadata": {},
     "output_type": "execute_result"
    }
   ],
   "source": [
    "cell_ref2rc(reference)"
   ]
  },
  {
   "cell_type": "code",
   "execution_count": 54,
   "id": "854be5c4-80c0-4805-b8eb-532c77e93d59",
   "metadata": {},
   "outputs": [],
   "source": [
    "import pandas as pd"
   ]
  },
  {
   "cell_type": "code",
   "execution_count": 92,
   "id": "d9f5d2de-9413-4dc0-8cf9-a5a568237347",
   "metadata": {},
   "outputs": [
    {
     "data": {
      "text/plain": [
       "0     object\n",
       "1     object\n",
       "2     object\n",
       "3     object\n",
       "4     object\n",
       "       ...  \n",
       "81    object\n",
       "82    object\n",
       "83    object\n",
       "84    object\n",
       "85    object\n",
       "Length: 86, dtype: object"
      ]
     },
     "execution_count": 92,
     "metadata": {},
     "output_type": "execute_result"
    }
   ],
   "source": [
    "df = pd.read_excel('C:/Users/User/Downloads/Diseño manual de vigas 1.1.3 CALEB.xlsm', 9, header=None, dtype='object')\n",
    "df.dtypes"
   ]
  },
  {
   "cell_type": "code",
   "execution_count": 96,
   "id": "cb549770-68ce-45d0-ba40-d4245aa99afe",
   "metadata": {},
   "outputs": [
    {
     "data": {
      "text/plain": [
       "True"
      ]
     },
     "execution_count": 96,
     "metadata": {},
     "output_type": "execute_result"
    }
   ],
   "source": [
    "df.iloc[cell_ref2rc('E135')]"
   ]
  },
  {
   "cell_type": "code",
   "execution_count": 11,
   "id": "d5329a68-6132-421b-b029-e11a1d574837",
   "metadata": {},
   "outputs": [],
   "source": [
    "import tkinter as tk\n",
    "from tkinter import ttk\n",
    "from tkinter.messagebox import showinfo\n",
    "\n",
    "# create the root window\n",
    "root = tk.Tk()\n",
    "\n",
    "root.title('Listbox')\n",
    "\n",
    "\n",
    "# create a list box\n",
    "langs = ('Java', 'C#', 'C', 'C++', 'Python',\n",
    "         'Go', 'JavaScript', 'PHP', 'Swift')\n",
    "\n",
    "var = tk.Variable(value=langs)\n",
    "\n",
    "listbox = tk.Listbox(\n",
    "    root,\n",
    "    listvariable=var,\n",
    "    height=6,\n",
    "    selectmode=tk.EXTENDED)\n",
    "\n",
    "listbox.pack(expand=True, fill=tk.BOTH, side=tk.LEFT)\n",
    "\n",
    "# link a scrollbar to a list\n",
    "scrollbar = ttk.Scrollbar(\n",
    "    root,\n",
    "    orient=tk.VERTICAL,\n",
    "    command=listbox.yview\n",
    ")\n",
    "\n",
    "listbox['yscrollcommand'] = scrollbar.set\n",
    "\n",
    "scrollbar.pack(side=tk.LEFT, expand=True, fill=tk.Y)\n",
    "\n",
    "\n",
    "def items_selected(event):\n",
    "    # get selected indices\n",
    "    selected_indices = listbox.curselection()\n",
    "    # get selected items\n",
    "    selected_langs = \",\".join([listbox.get(i) for i in selected_indices])\n",
    "    msg = f'You selected: {selected_langs}'\n",
    "\n",
    "    showinfo(title='Information', message=msg)\n",
    "\n",
    "\n",
    "listbox.bind('<<ListboxSelect>>', items_selected)\n",
    "\n",
    "root.mainloop()"
   ]
  },
  {
   "cell_type": "code",
   "execution_count": 46,
   "id": "1209c0b4-9e96-49d3-a900-9d1794f415dc",
   "metadata": {},
   "outputs": [],
   "source": [
    "import tkinter as tk\n",
    "from tkinter import ttk, filedialog\n",
    "\n",
    "class App(tk.Tk):\n",
    "    def __init__(self, sheet_names_list: list) -> None:\n",
    "        super().__init__()\n",
    "\n",
    "        self.list = sheet_names_list\n",
    "\n",
    "        self.title('Dibujar vigas')\n",
    "        self.was_cancelled = True\n",
    "        self.selected_indexes = None\n",
    "        self.listbox = None\n",
    "        self.geometry(\"250x300\")\n",
    "        self.minsize(250,200)\n",
    "        self.show_list()\n",
    "        self.mainloop()\n",
    "\n",
    "    def show_list(self):\n",
    "        top_frame = tk.Frame(self)\n",
    "        sel_frame = tk.Frame(self)\n",
    "        list_frame = tk.Frame(self)\n",
    "        bottom_frame = tk.Frame(self)\n",
    "\n",
    "        top_frame.pack(side=tk.TOP, padx=10, pady=2.5)\n",
    "        sel_frame.pack(side=tk.TOP, padx=10, pady=2.5)\n",
    "        list_frame.pack(side=tk.TOP, fill=tk.BOTH, expand=True, padx=10, pady=2.5)\n",
    "        bottom_frame.pack(side=tk.BOTTOM, padx=10, pady=2.5)\n",
    "        \n",
    "        tk.Label(self, text='Seleccione las hojas a dibujar:').pack(in_=top_frame)\n",
    "        var = tk.Variable(value=self.list)\n",
    "        self.listbox = tk.Listbox(\n",
    "            self,\n",
    "            listvariable=var,\n",
    "            height=6,\n",
    "            selectmode=tk.EXTENDED)\n",
    "        select_all_button = ttk.Button(\n",
    "            self,\n",
    "            text='Select all',\n",
    "            command=self.select_all)\n",
    "        select_all_button.pack(in_=sel_frame, side=tk.LEFT, padx=10)\n",
    "        deselect_all_button = ttk.Button(\n",
    "            self,\n",
    "            text='Deselect all',\n",
    "            command=self.deselect_all)\n",
    "        deselect_all_button.pack(in_=sel_frame, side=tk.LEFT, padx=10)\n",
    "        self.listbox.pack(in_=list_frame, side=tk.LEFT, fill=tk.BOTH, expand=True)\n",
    "        scrollbar = ttk.Scrollbar(\n",
    "            list_frame,\n",
    "            orient=tk.VERTICAL,\n",
    "            command=self.listbox.yview\n",
    "        )\n",
    "        self.listbox['yscrollcommand'] = scrollbar.set\n",
    "        scrollbar.pack(side=tk.LEFT, fill=tk.Y)\n",
    "        ok_button = ttk.Button(\n",
    "            self,\n",
    "            text='OK',\n",
    "            command=self.save_and_destroy)\n",
    "        ok_button.pack(in_=bottom_frame, side=tk.LEFT, padx=10)\n",
    "        cancel_button = ttk.Button(\n",
    "            self,\n",
    "            text='Cancel',\n",
    "            command=self.destroy)\n",
    "        cancel_button.pack(in_=bottom_frame, side=tk.LEFT, padx=10)\n",
    "\n",
    "    def save_and_destroy(self):\n",
    "        self.was_cancelled = False\n",
    "        self.selected_indexes = self.listbox.curselection()\n",
    "        self.destroy()\n",
    "\n",
    "    def select_all(self):\n",
    "        self.listbox.select_set(0, tk.END)\n",
    "\n",
    "    def deselect_all(self):\n",
    "        self.listbox.selection_clear(0, tk.END)"
   ]
  },
  {
   "cell_type": "code",
   "execution_count": 47,
   "id": "fc6c3b1c-5fa7-45b9-a6a5-3f3d0ebdbc92",
   "metadata": {},
   "outputs": [],
   "source": [
    "app = App(['Java', 'C#', 'C', 'C++', 'Python',\n",
    "         'Go', 'JavaScript', 'PHP', 'Swift'])"
   ]
  },
  {
   "cell_type": "code",
   "execution_count": 48,
   "id": "cb61b144-c591-4e97-b2e0-114fa7ae2505",
   "metadata": {},
   "outputs": [
    {
     "name": "stdout",
     "output_type": "stream",
     "text": [
      "(0, 1, 2, 3, 4, 5, 6, 7, 8)\n"
     ]
    }
   ],
   "source": [
    "if app.was_cancelled:\n",
    "    print('Cancelado')\n",
    "else:\n",
    "    print(app.selected_indexes)"
   ]
  },
  {
   "cell_type": "code",
   "execution_count": 36,
   "id": "74d7cb5c-5f27-4788-9a25-9377ab4d6e62",
   "metadata": {},
   "outputs": [],
   "source": [
    "from tkinter import *\n",
    "\n",
    "def select_all():\n",
    "    lb.select_set(0, END)\n",
    "\n",
    "root = Tk()\n",
    "lb = Listbox(root, selectmode=EXTENDED)\n",
    "for i in range(10): lb.insert(END, i)\n",
    "lb.pack()\n",
    "Button(root, text='select all', command=select_all).pack()\n",
    "root.mainloop()"
   ]
  },
  {
   "cell_type": "code",
   "execution_count": 51,
   "id": "7d8ee9a5-f101-4f1a-a226-ada1a7677b79",
   "metadata": {},
   "outputs": [
    {
     "data": {
      "text/plain": [
       "'True'"
      ]
     },
     "execution_count": 51,
     "metadata": {},
     "output_type": "execute_result"
    }
   ],
   "source": [
    "str(True)"
   ]
  },
  {
   "cell_type": "code",
   "execution_count": null,
   "id": "018d717b-0afe-439e-9944-4843cd8eb767",
   "metadata": {},
   "outputs": [],
   "source": []
  }
 ],
 "metadata": {
  "kernelspec": {
   "display_name": "Python 3 (ipykernel)",
   "language": "python",
   "name": "python3"
  },
  "language_info": {
   "codemirror_mode": {
    "name": "ipython",
    "version": 3
   },
   "file_extension": ".py",
   "mimetype": "text/x-python",
   "name": "python",
   "nbconvert_exporter": "python",
   "pygments_lexer": "ipython3",
   "version": "3.11.2"
  }
 },
 "nbformat": 4,
 "nbformat_minor": 5
}
