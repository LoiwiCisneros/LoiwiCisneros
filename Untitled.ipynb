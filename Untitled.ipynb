{
 "cells": [
  {
   "cell_type": "code",
   "execution_count": 1,
   "id": "ae57c257-c537-4361-a48d-1162be4ab690",
   "metadata": {},
   "outputs": [],
   "source": [
    "import json\n",
    "import os.path\n",
    "import openpyxl\n",
    "import re\n",
    "from tkinter import filedialog"
   ]
  },
  {
   "cell_type": "code",
   "execution_count": null,
   "id": "723d15fa-3d1f-4d97-b19d-80600c5489a7",
   "metadata": {},
   "outputs": [],
   "source": [
    "class Assistant:\n",
    "    def __init__(self, jsonFileName='Beams_info', xlsxFilePath=None) -> None:\n",
    "        self.fileName = jsonFileName\n",
    "        if xlsxFilePath is None:\n",
    "            xlsxFilePath = filedialog.askopenfilename(filetypes=((\"Excel files\", \"*xlsx\"), (\"Excel files\", \"*xlsm\")))\n",
    "        self.jsonFilePath = os.path.join(os.path.dirname(xlsxFilePath), jsonFileName + '.json')\n",
    "        self.wb = openpyxl.load_workbook(xlsxFilePath, read_only=True, data_only=True, keep_vba=False)\n",
    "\n",
    "    def open_json_file(self) -> None:\n",
    "        with open(self.jsonFilePath) as jsonFile:\n",
    "            self.jsonDict = json.load(jsonFile)\n",
    "\n",
    "    def get_variable_value(self, variable):\n",
    "        with open(self.jsonFilePath) as jsonFile:\n",
    "            dictionary = json.load(jsonFile)\n",
    "            value = dictionary[variable]\n",
    "        return value"
   ]
  },
  {
   "cell_type": "code",
   "execution_count": 2,
   "id": "a7d5d5ff-8aa9-40cd-aef2-dd8088a6aee5",
   "metadata": {},
   "outputs": [],
   "source": [
    "path = 'C:/Users/User/Downloads/Diseño manual de vigas 1.1.3 CALEB.xlsm'"
   ]
  },
  {
   "cell_type": "code",
   "execution_count": 3,
   "id": "2ab3602e-4221-489d-aad0-13dc8398a401",
   "metadata": {},
   "outputs": [
    {
     "data": {
      "text/plain": [
       "'C:/Users/User/Downloads'"
      ]
     },
     "execution_count": 3,
     "metadata": {},
     "output_type": "execute_result"
    }
   ],
   "source": [
    "os.path.dirname(path)"
   ]
  },
  {
   "cell_type": "code",
   "execution_count": null,
   "id": "9b565c70-b840-4791-8b07-24eb267c6ad0",
   "metadata": {},
   "outputs": [],
   "source": []
  }
 ],
 "metadata": {
  "kernelspec": {
   "display_name": "Python 3 (ipykernel)",
   "language": "python",
   "name": "python3"
  },
  "language_info": {
   "codemirror_mode": {
    "name": "ipython",
    "version": 3
   },
   "file_extension": ".py",
   "mimetype": "text/x-python",
   "name": "python",
   "nbconvert_exporter": "python",
   "pygments_lexer": "ipython3",
   "version": "3.11.2"
  }
 },
 "nbformat": 4,
 "nbformat_minor": 5
}
